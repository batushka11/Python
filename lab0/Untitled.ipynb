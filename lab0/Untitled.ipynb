{
 "cells": [
  {
   "cell_type": "code",
   "execution_count": 18,
   "id": "8d5597f4",
   "metadata": {},
   "outputs": [
    {
     "name": "stdout",
     "output_type": "stream",
     "text": [
      "6\n"
     ]
    }
   ],
   "source": [
    "print(ord(\"A\") % 10 + 1)\n"
   ]
  },
  {
   "cell_type": "markdown",
   "id": "8bf332db-3d70-4ac7-ac80-226b157de0fe",
   "metadata": {},
   "source": [
    "# Йорданія\n",
    "\n",
    "## Загальні відомості\n",
    "\n",
    "**Йорданія** — країна, розташована на Близькому Сході. Її **столиця** — *Амман*. Йорданія є однією з найстабільніших країн регіону, відомою своєю багатою історією та культурною спадщиною.\n",
    "\n",
    "---\n",
    "\n",
    "## Основні характеристики\n",
    "\n",
    "<div style=\"border: 2px solid black; padding: 10px;\">\n",
    "  \n",
    "| **Характеристика**       | **Значення**                             |\n",
    "|--------------------------|------------------------------------------|\n",
    "| **Столиця**               | <span style=\"color: blue;\">Амман</span>  |\n",
    "| **Офіційна мова**         | <span style=\"color: green;\">Арабська</span> |\n",
    "| **Державний устрій**      | Конституційна монархія                   |\n",
    "| **Площа**                 | 89 342 км²                               |\n",
    "| **Населення**             | ~<span style=\"color: red;\">10.2 млн</span> (на 2023 рік) |\n",
    "| **Валюта**                | <span style=\"color: purple;\">Йорданський динар (JOD)</span> |\n",
    "| **Релігія**               | <span style=\"color: brown;\">Іслам</span> (більшість населення)  |\n",
    "\n",
    "</div>\n",
    "\n",
    "---\n",
    "\n",
    "## Політичний устрій\n",
    "\n",
    "**Йорданія** — це *конституційна монархія*, де **Король Абдалла II** має значний вплив на урядові рішення. Його дружина, **Королева Ранія**, відома активістка в галузі прав жінок, освіти та охорони здоров'я.\n",
    "\n",
    "---\n",
    "\n",
    "### Видатні персоналії:\n",
    "\n",
    "* **Король Абдалла II** — правитель Йорданії з 1999 року.\n",
    "   - *Діяльність*: Реформи в освіті та охороні здоров'я.\n",
    "   - *Вплив*: Зміцнення міжнародних зв'язків.\n",
    "  \n",
    "* **Королева Ранія** — активістка в галузі прав жінок та освіти.\n",
    "   - *Досвід*: Підтримка освітніх програм.\n",
    "   - *Визнання*: Міжнародні нагороди за гуманітарну діяльність.\n",
    "\n",
    "* **Т. Е. Лоуренс** — британський військовий, відомий як *Лоуренс Аравії*.\n",
    "   - *Внесок*: Роль у арабському повстанні.\n",
    "   - *Творчість*: Автор знаменитих мемуарів.\n",
    "\n",
    "---\n",
    "\n",
    "## Пам'ятки культури та природи\n",
    "\n",
    "1. **Петра**  \n",
    "   Одне з нових семи чудес світу, стародавнє місто, вирізане в скелях.\n",
    "\n",
    "   ![Петра](https://gochina.ru/uploads/images/goroda-iordanii/petra/gorod-petra.jpg)\n",
    "\n",
    "2. **Ваді Рам**  \n",
    "   Червона пустеля з іншопланетними ландшафтами.\n",
    "\n",
    "   ![Ваді Рам](https://gryniuk.com/wp-content/uploads/2018/02/Wadi-Rum-1003.jpg)\n",
    "\n",
    "3. **Мертве море**  \n",
    "   Найнижча точка на Землі з унікальними лікувальними властивостями.\n",
    "\n",
    "   ![Мертве море](https://radioiskatel.ru/wp-content/uploads/2018/12/dead-sea-1.jpg)\n",
    "\n",
    "4. **Замок Аджлун**  \n",
    "   Ісламська фортеця 12-го століття.\n",
    "\n",
    "   ![Замок Аджлун](castle.jpg \"castle\")\n",
    "\n",
    "---\n",
    "\n",
    "## Корисні посилання\n",
    "\n",
    "- [Офіційний сайт Туристичного Управління Йорданії](https://visitjordan.com)\n",
    "- [Докладніше про Петру](https://en.wikipedia.org/wiki/Petra)\n"
   ]
  },
  {
   "cell_type": "markdown",
   "id": "6eb9e015",
   "metadata": {},
   "source": [
    "<svg width=\"480\" height=\"240\">\n",
    "    <rect width=\"480\" height=\"240\" fill=\"#fff\"/>\n",
    "    <rect width=\"480\" height=\"80\" fill=\"#000\"/>\n",
    "    <rect y=\"160\" width=\"480\" height=\"80\" fill=\"#007a3d\"/>\n",
    "    <polygon points=\"0,0 240,120 0,240\" fill=\"#ce1126\"/>\n",
    "    <path fill=\"#fff\" d=\"M80 110 l-4 11 l-11 -3 l6 10 l-9 6 l12 1 l-1 12 l9 -8 l9 8 l-1 -12 l12 -1 l-9 -6 l6 -10 l-11 3z\"/>\n",
    "</svg>"
   ]
  },
  {
   "cell_type": "code",
   "execution_count": 11,
   "id": "abebfdf0",
   "metadata": {},
   "outputs": [],
   "source": [
    "def is_prime(num):\n",
    "    if num < 2:\n",
    "        return False\n",
    "    for i in range(2, int(num ** 0.5) + 1):\n",
    "        if num % i == 0:\n",
    "            return False\n",
    "    return True\n",
    "\n",
    "def prime_numbers_in_range(a, b):\n",
    "    try:\n",
    "        a, b = int(a), int(b)\n",
    "        \n",
    "        if a > b:\n",
    "            a, b = b, a\n",
    "        \n",
    "        primes = []\n",
    "        for num in range(a, b + 1):\n",
    "            if is_prime(num):\n",
    "                primes.append(num)\n",
    "                \n",
    "        return primes\n",
    "    \n",
    "    except ValueError:\n",
    "        return \"Помилка. У списку присутнє нечислове значення\""
   ]
  },
  {
   "cell_type": "code",
   "execution_count": 20,
   "id": "d013a682",
   "metadata": {},
   "outputs": [
    {
     "name": "stdout",
     "output_type": "stream",
     "text": [
      "[3, 5, 7, 11, 13]\n",
      "[11, 13, 17, 19]\n",
      "Помилка. У списку присутнє нечислове значення\n"
     ]
    }
   ],
   "source": [
    "print(prime_numbers_in_range(3, 15))\n",
    "print(prime_numbers_in_range(20, 10))\n",
    "print(prime_numbers_in_range(3, \"str\"))"
   ]
  },
  {
   "cell_type": "code",
   "execution_count": null,
   "id": "ddce2f32",
   "metadata": {},
   "outputs": [],
   "source": [
    "print(ord(\"AAA\") % 3 + 1)"
   ]
  }
 ],
 "metadata": {
  "kernelspec": {
   "display_name": "Python 3 (ipykernel)",
   "language": "python",
   "name": "python3"
  },
  "language_info": {
   "codemirror_mode": {
    "name": "ipython",
    "version": 3
   },
   "file_extension": ".py",
   "mimetype": "text/x-python",
   "name": "python",
   "nbconvert_exporter": "python",
   "pygments_lexer": "ipython3",
   "version": "3.12.5"
  }
 },
 "nbformat": 4,
 "nbformat_minor": 5
}
